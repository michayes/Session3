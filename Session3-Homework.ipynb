{
 "cells": [
  {
   "cell_type": "code",
   "execution_count": null,
   "metadata": {},
   "outputs": [],
   "source": [
    "#write a reduce function that works like the builtin function"
   ]
  },
  {
   "cell_type": "code",
   "execution_count": null,
   "metadata": {},
   "outputs": [],
   "source": [
    "import random\n",
    "\n",
    "#get random numbers to use in the reduce function\n",
    "def RandNum(start, end, num):\n",
    "    mylist = []\n",
    "    \n",
    "    for i in range(num):\n",
    "        mylist.append(random.randint(start, end))\n",
    "        \n",
    "    return mylist\n",
    "\n",
    "#Use output in the reduce formula below\n",
    "def MyReduce(output):\n",
    "    total = 0\n",
    "    \n",
    "    for n in output:\n",
    "        total = total + n\n",
    "        #print(n)\n",
    "        #print(total)\n",
    "\n",
    "    return total\n",
    "\n",
    "#get inputs from user\n",
    "start = int(input('Enter a starting number between 11 and 20: '))\n",
    "end = int(input('Enter a ending number between 21 and 50: '))\n",
    "num = int(input('Enter the number or random numbers between 1 and 10: '))\n",
    "\n",
    "output = RandNum(start, end, num)\n",
    "total = MyReduce(output)\n",
    "\n",
    "print('My list of numbers: ', output)\n",
    "\n",
    "print('The reduced total of my list is: ', total)\n"
   ]
  },
  {
   "cell_type": "code",
   "execution_count": null,
   "metadata": {},
   "outputs": [],
   "source": []
  },
  {
   "cell_type": "code",
   "execution_count": null,
   "metadata": {},
   "outputs": [],
   "source": []
  },
  {
   "cell_type": "code",
   "execution_count": null,
   "metadata": {},
   "outputs": [],
   "source": [
    "#Get filter to work with out calling filter."
   ]
  },
  {
   "cell_type": "code",
   "execution_count": null,
   "metadata": {},
   "outputs": [],
   "source": [
    "import random\n",
    "\n",
    "#get random numbers to use in the reduce function\n",
    "def RandNum(start, end, num):\n",
    "    mylist = []\n",
    "    \n",
    "    for i in range(num):\n",
    "        mylist.append(random.randint(start, end))\n",
    "        \n",
    "    return mylist\n",
    "\n",
    "#Use output in the filter formula below\n",
    "def MyFilter(output):\n",
    "    odd = []\n",
    "    even = []\n",
    "    \n",
    "    for n in output:\n",
    "        if n % 2 != 0:\n",
    "            odd.append(n)\n",
    "        else:\n",
    "            even.append(n)\n",
    "    #Print the odd group and even group        \n",
    "    print('The filtered odd numbers are: ', odd)\n",
    "    print('The filtered even numbers are: ', even)\n",
    "    \n",
    "\n",
    "#get inputs from user\n",
    "start = int(input('Enter a starting number between 11 and 20: '))\n",
    "end = int(input('Enter a ending number between 21 and 50: '))\n",
    "num = int(input('Enter the number or random numbers between 1 and 10: '))\n",
    "\n",
    "\n",
    "#start the filter\n",
    "output = RandNum(start, end, num)\n",
    "total = MyFilter(output)\n",
    "\n",
    "print('My list of numbers: ', output)"
   ]
  },
  {
   "cell_type": "code",
   "execution_count": null,
   "metadata": {},
   "outputs": [],
   "source": []
  },
  {
   "cell_type": "code",
   "execution_count": null,
   "metadata": {},
   "outputs": [],
   "source": []
  },
  {
   "cell_type": "code",
   "execution_count": null,
   "metadata": {},
   "outputs": [],
   "source": [
    "# Make list comprehensions - first 3"
   ]
  },
  {
   "cell_type": "code",
   "execution_count": null,
   "metadata": {},
   "outputs": [],
   "source": [
    "str1= 'ACADGILD'\n",
    "\n",
    "mylist = []\n",
    "for char in str1:\n",
    "    mylist.append(char)\n",
    "\n",
    "print(mylist)\n",
    "    \n",
    "    "
   ]
  },
  {
   "cell_type": "code",
   "execution_count": null,
   "metadata": {},
   "outputs": [],
   "source": [
    "str2 = \"xyz\"\n",
    "\n",
    "mylist2 = []\n",
    "\n",
    "for char2 in str2:\n",
    "    for n in range(1,5):\n",
    "        mylist2.append((char2)*n)\n",
    "    #break\n",
    "        \n",
    "print(mylist2)"
   ]
  },
  {
   "cell_type": "code",
   "execution_count": null,
   "metadata": {},
   "outputs": [],
   "source": []
  },
  {
   "cell_type": "code",
   "execution_count": null,
   "metadata": {},
   "outputs": [],
   "source": [
    "str3 = \"xyz\"\n",
    "\n",
    "mylist3 = []\n",
    "\n",
    "for n in range(1,5):\n",
    "    for char3 in str3:\n",
    "        mylist3.append((char3)*n)\n",
    "    #break\n",
    "        \n",
    "print(mylist3)"
   ]
  },
  {
   "cell_type": "code",
   "execution_count": null,
   "metadata": {},
   "outputs": [],
   "source": []
  },
  {
   "cell_type": "code",
   "execution_count": null,
   "metadata": {},
   "outputs": [],
   "source": [
    "# Make list comprehensions - last 3"
   ]
  },
  {
   "cell_type": "code",
   "execution_count": null,
   "metadata": {},
   "outputs": [],
   "source": [
    "#Output - [[2], [3], [4], [3], [4], [5], [4], [5], [6]]"
   ]
  },
  {
   "cell_type": "code",
   "execution_count": null,
   "metadata": {},
   "outputs": [],
   "source": [
    "str4 = [2], [3], [4], [5], [6]\n",
    "\n",
    "count=0\n",
    "n= 3\n",
    "mylist4=[]\n",
    "for count in range(0,3):\n",
    "    mylist4=mylist4+list(str4[count:n+count])\n",
    "    count = count+1\n",
    "\n",
    "print(mylist4)"
   ]
  },
  {
   "cell_type": "code",
   "execution_count": null,
   "metadata": {},
   "outputs": [],
   "source": []
  },
  {
   "cell_type": "code",
   "execution_count": null,
   "metadata": {},
   "outputs": [],
   "source": [
    "#output - [[2,3,4,5],[3,4,5,6],[4,5,6,7],[5,6,7,8]]"
   ]
  },
  {
   "cell_type": "code",
   "execution_count": null,
   "metadata": {},
   "outputs": [],
   "source": [
    "str5 = [2,3,4,5,6,7,8]\n",
    "count=0\n",
    "n= 4\n",
    "mylist5=[]\n",
    "for count in range(0,4):\n",
    "    mylist5.append(str5[count:n+count])\n",
    "    count = count+1\n",
    "\n",
    "print(mylist5)"
   ]
  },
  {
   "cell_type": "code",
   "execution_count": null,
   "metadata": {},
   "outputs": [],
   "source": []
  },
  {
   "cell_type": "code",
   "execution_count": null,
   "metadata": {},
   "outputs": [],
   "source": [
    "#output - [(1, 1), (2, 1), (3, 1), (1, 2), (2, 2), (3, 2), (1, 3), (2, 3), (3, 3)]"
   ]
  },
  {
   "cell_type": "code",
   "execution_count": null,
   "metadata": {},
   "outputs": [],
   "source": [
    "from itertools import product\n",
    "\n",
    "str6 = [1,2,3]\n",
    "n= 2\n",
    "list(product((str6), repeat = n))"
   ]
  },
  {
   "cell_type": "code",
   "execution_count": null,
   "metadata": {},
   "outputs": [],
   "source": []
  },
  {
   "cell_type": "code",
   "execution_count": null,
   "metadata": {},
   "outputs": [],
   "source": [
    "#Longest Word in a sentence"
   ]
  },
  {
   "cell_type": "code",
   "execution_count": 11,
   "metadata": {},
   "outputs": [
    {
     "name": "stdout",
     "output_type": "stream",
     "text": [
      "elephant\n"
     ]
    }
   ],
   "source": [
    "def longestWord(sentence):\n",
    "    sentencelist = sentence.split()\n",
    "    max_word = \"\"\n",
    "    max_length = 0\n",
    "    for word in sentencelist:\n",
    "        #print(word)\n",
    "        #print(max_length)\n",
    "        if len(word) > max_length:\n",
    "            max_length = len(word)\n",
    "            max_word = word\n",
    "    return max_word\n",
    "\n",
    "y = \"The quick brown fox fell over the elephant\"\n",
    "x=longestWord(y)\n",
    "\n",
    "print(x)"
   ]
  }
 ],
 "metadata": {
  "kernelspec": {
   "display_name": "Python 3",
   "language": "python",
   "name": "python3"
  },
  "language_info": {
   "codemirror_mode": {
    "name": "ipython",
    "version": 3
   },
   "file_extension": ".py",
   "mimetype": "text/x-python",
   "name": "python",
   "nbconvert_exporter": "python",
   "pygments_lexer": "ipython3",
   "version": "3.6.5"
  }
 },
 "nbformat": 4,
 "nbformat_minor": 2
}
